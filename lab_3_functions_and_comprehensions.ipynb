{
  "nbformat": 4,
  "nbformat_minor": 0,
  "metadata": {
    "anaconda-cloud": {},
    "kernelspec": {
      "display_name": "Python 3",
      "language": "python",
      "name": "python3"
    },
    "language_info": {
      "codemirror_mode": {
        "name": "ipython",
        "version": 3
      },
      "file_extension": ".py",
      "mimetype": "text/x-python",
      "name": "python",
      "nbconvert_exporter": "python",
      "pygments_lexer": "ipython3",
      "version": "3.7.2"
    },
    "colab": {
      "name": "lab_3_functions_and_comprehensions.ipynb",
      "provenance": [],
      "include_colab_link": true
    }
  },
  "cells": [
    {
      "cell_type": "markdown",
      "metadata": {
        "id": "view-in-github",
        "colab_type": "text"
      },
      "source": [
        "<a href=\"https://colab.research.google.com/github/davidlars18/lab3/blob/master/lab_3_functions_and_comprehensions.ipynb\" target=\"_parent\"><img src=\"https://colab.research.google.com/assets/colab-badge.svg\" alt=\"Open In Colab\"/></a>"
      ]
    },
    {
      "cell_type": "markdown",
      "metadata": {
        "id": "rumHTkS2nzzV",
        "colab_type": "text"
      },
      "source": [
        "# Lab 3 - Function and List Comprehension Exercises\n",
        "\n",
        "Please complete each exercise and submit your work on D2L.\n",
        "\n",
        "**Rules:**\n",
        "\n",
        "1. All functions should be defined with `lambda` (only test functions should use `def` statements.)\n",
        "2. Each function should be accompanied by test function that covers normal and edge cases."
      ]
    },
    {
      "cell_type": "markdown",
      "metadata": {
        "id": "mlDbEnNFnzzW",
        "colab_type": "text"
      },
      "source": [
        "### <font color='red'> Exercise 1 </font>\n",
        "\n",
        "Write a function `sum_of_squares` that computes the sum of the squares of the numbers in the input list. *Use a helper function in your solution*\n",
        "\n",
        "\n",
        "**Example** `sum_of_squares([2, 3, 4]) === 4 + 9 + 16`  **HINT:** Use a comprehension to square the values and `sum` to compute the sum."
      ]
    },
    {
      "cell_type": "code",
      "metadata": {
        "id": "8nIwmpqjnzzX",
        "colab_type": "code",
        "colab": {}
      },
      "source": [
        "from composable import pipeable\n",
        "squares = pipeable(lambda L: [i**2 for i in L])\n",
        "def sum_of_squares (L):\n",
        "  \"\"\" this function computes the sum of the squares of the values in the list\n",
        "  args: the list\n",
        "  returns the sum\n",
        "  \"\"\"\n",
        "  output = sum(L\n",
        "  >> squares\n",
        "  )\n",
        "  return output\n",
        "\n",
        "def test_sum_of_squares():\n",
        "  assert sum_of_squares([2,3,4]) == 29\n",
        "  assert sum_of_squares([1,2,3]) == 14\n",
        "  assert sum_of_squares([1,2,3,4]) == 30\n",
        "\n",
        "test_sum_of_squares()"
      ],
      "execution_count": 5,
      "outputs": []
    },
    {
      "cell_type": "markdown",
      "metadata": {
        "id": "He6IEPegnzzb",
        "colab_type": "text"
      },
      "source": [
        "### <font color=\"red\"> Exercise 2 </font>\n",
        "\n",
        "Write a function called `sum_even` that sums up all the even numbers in a list.  Include helper functions in your solution.\n",
        "\n",
        "**Example** `sum_even([1,2,3,4]) == 6`\n",
        "\n",
        "**Hint** You need a filter here."
      ]
    },
    {
      "cell_type": "code",
      "metadata": {
        "id": "dLBrE3Ofnzzc",
        "colab_type": "code",
        "colab": {}
      },
      "source": [
        "def sum_even(L):\n",
        "  \"\"\" this function sums all the even numbers in a list\n",
        "  args: a list\n",
        "  returns the sum\n",
        "  \"\"\"\n",
        "  output = sum([i for i in L if i % 2 ==0] \n",
        "  )\n",
        "  return output\n",
        "\n",
        "def test_sum_even():\n",
        "  assert sum_even([1,2,3,4]) == 6\n",
        "  assert sum_even([1,3,5,7]) == 0\n",
        "  assert sum_even([2,4,6,8]) == 20\n",
        "\n",
        "test_sum_even()"
      ],
      "execution_count": 6,
      "outputs": []
    },
    {
      "cell_type": "markdown",
      "metadata": {
        "id": "U5T8dbM0nzze",
        "colab_type": "text"
      },
      "source": [
        "### <font color=\"red\"> Exercise 3 </font>\n",
        "\n",
        "Write a function called `freq` that takes a value `a` and a list `L` as arguments and returns the number of times `a` occurs in `L`.\n",
        "\n",
        "**Example** `freq(1,[1,2,1,3,4]) == 2`\n",
        "\n",
        "**Hint** Use a filter in your comprehension and the `len` function"
      ]
    },
    {
      "cell_type": "code",
      "metadata": {
        "id": "WnqsjJganzzf",
        "colab_type": "code",
        "colab": {}
      },
      "source": [
        "plen = pipeable(lambda L: L.length)\n",
        "\n",
        "def freq(a, L):\n",
        "  \"\"\" this function finds the number of times the value \"a\" occurs in list \"L\"\n",
        "  args: value \"a\" and list \"L\"\n",
        "  returns the number of times \"a\" occurs in list \"L\"\n",
        "  \"\"\"\n",
        "  output = L.count(a)\n",
        "  return output\n",
        "\n",
        "def test_freq():\n",
        "  assert freq(1,[1,2,1,3,4]) == 2\n",
        "  assert freq(2,[1,2,1,3,4]) == 1\n",
        "  assert freq(3,[1,3,4,3,2,3,3]) == 4\n",
        "\n",
        "test_freq()"
      ],
      "execution_count": 7,
      "outputs": []
    },
    {
      "cell_type": "markdown",
      "metadata": {
        "id": "7ozv-aXBnzzi",
        "colab_type": "text"
      },
      "source": [
        "### <font color=\"red\"> Exercise 4 </font>\n",
        "\n",
        "Write a function called `between` that takes value `a`, `b` and a list `L` as arguments and returns `True` when all of the elements of `L` that strictly between `a` and `b`.\n",
        "\n",
        "**Example** `between(0, 5,[1,2,1,3,4]) == True`\n",
        "\n",
        "**Hint** Use a boolean expresion and the `all` function."
      ]
    },
    {
      "cell_type": "code",
      "metadata": {
        "id": "UzY7SRRmnzzi",
        "colab_type": "code",
        "colab": {}
      },
      "source": [
        "greater = lambda a, L: [bool(i > a) for i in L]\n",
        "less = lambda b, L: [bool(i < b) for i in L] \n",
        "\n",
        "def between(a, b, L):\n",
        "  \"\"\" this function returns true when all the elements of list L are strictly between the values 'a' and 'b'\n",
        "  args: 'a' is minimum value\n",
        "        'b' is maxiumum value\n",
        "        'L' is the list we are testing\n",
        "  returns: true or false\n",
        "  \"\"\"\n",
        "  g = greater(a, L)\n",
        "  l = less(b, L)\n",
        "  output = True if all(l) and all(g) else False\n",
        "  return output\n",
        "\n",
        "def test_between():\n",
        "  assert between(0,5,[1,3,1,2,4]) == True\n",
        "  assert between(1,3,[2,2,2]) == True\n",
        "  assert between(0,4,[1,2,3,4]) == False\n",
        "  assert between(0,4,[1,2,3,5]) == False\n",
        "\n",
        "test_between()"
      ],
      "execution_count": 8,
      "outputs": []
    }
  ]
}